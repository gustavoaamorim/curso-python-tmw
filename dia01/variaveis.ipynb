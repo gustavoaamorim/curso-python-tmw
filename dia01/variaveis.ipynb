{
 "cells": [
  {
   "cell_type": "markdown",
   "metadata": {},
   "source": [
    "As variáveis servem para armazenar em memória informações de operações."
   ]
  },
  {
   "cell_type": "code",
   "execution_count": 1,
   "metadata": {},
   "outputs": [
    {
     "name": "stdout",
     "output_type": "stream",
     "text": [
      "6\n"
     ]
    }
   ],
   "source": [
    "# o print irá exibir a última operação realizada atribuída à variável soma\n",
    "soma = 10 + 20\n",
    "soma = 2 * 3\n",
    "print(soma)"
   ]
  },
  {
   "cell_type": "code",
   "execution_count": 7,
   "metadata": {},
   "outputs": [
    {
     "name": "stdout",
     "output_type": "stream",
     "text": [
      "Olá gustavo. Seja bem-vindo(a)\n"
     ]
    }
   ],
   "source": [
    "# solicitando entradas do usuário\n",
    "nome = input(\"Informe o seu nome: \")\n",
    "print(\"Olá \", nome, \". Seja bem-vindo(a).\", sep=\"\")"
   ]
  },
  {
   "cell_type": "code",
   "execution_count": 8,
   "metadata": {},
   "outputs": [
    {
     "name": "stdout",
     "output_type": "stream",
     "text": [
      "a + b =  33\n"
     ]
    }
   ],
   "source": [
    "a = int(input(\"Entre com o primeiro número: \"))\n",
    "b = int(input(\"Entre com o segundo número: \"))\n",
    "print(\"a + b = \", a+b)"
   ]
  }
 ],
 "metadata": {
  "kernelspec": {
   "display_name": "Python 3",
   "language": "python",
   "name": "python3"
  },
  "language_info": {
   "codemirror_mode": {
    "name": "ipython",
    "version": 3
   },
   "file_extension": ".py",
   "mimetype": "text/x-python",
   "name": "python",
   "nbconvert_exporter": "python",
   "pygments_lexer": "ipython3",
   "version": "3.11.4"
  }
 },
 "nbformat": 4,
 "nbformat_minor": 2
}
