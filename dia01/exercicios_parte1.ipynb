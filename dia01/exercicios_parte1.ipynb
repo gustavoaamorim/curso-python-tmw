{
 "cells": [
  {
   "cell_type": "markdown",
   "metadata": {},
   "source": [
    "1.1 Escreva um programa que receba o nome de uma pessoa e faça uma saudação."
   ]
  },
  {
   "cell_type": "code",
   "execution_count": 1,
   "metadata": {},
   "outputs": [
    {
     "name": "stdout",
     "output_type": "stream",
     "text": [
      "Olá Maria. Seja bem vindo(a).\n"
     ]
    }
   ],
   "source": [
    "nome = input(\"Informe o nome: \")\n",
    "\n",
    "print(\"Olá \", nome, \". Seja bem vindo(a).\", sep=\"\")"
   ]
  },
  {
   "cell_type": "markdown",
   "metadata": {},
   "source": [
    "1.2 Escreva um programa que receba o nome e a idade de uma pessoa. Depois exiba a mensagem:\n",
    "\n",
    "“Olá fulano, bom saber que você tem x anos. Seja bem vindo!”\n"
   ]
  },
  {
   "cell_type": "code",
   "execution_count": 10,
   "metadata": {},
   "outputs": [
    {
     "name": "stdout",
     "output_type": "stream",
     "text": [
      "Olá joao, bom saber que você tem 32 anos. Seja bem vindo(a).\n"
     ]
    }
   ],
   "source": [
    "nome = input(\"Informe seu nome: \")\n",
    "idade = input(\"Informe sua idade: \")\n",
    "\n",
    "print(\"Olá \", nome, \", bom saber que você tem \", idade, \" anos. Seja bem vindo(a).\", sep=\"\")"
   ]
  },
  {
   "cell_type": "markdown",
   "metadata": {},
   "source": [
    "1.3 Faça um programa que receba o raio de uma circunferência em centímetros. Retorne para o usuário qual é a área e perímetro desta circunferência no seguinte formato.\n",
    "\n",
    "Área:  x.xx\n",
    "Perímetro:  y.yy\n"
   ]
  },
  {
   "cell_type": "code",
   "execution_count": 11,
   "metadata": {},
   "outputs": [
    {
     "name": "stdout",
     "output_type": "stream",
     "text": [
      "Área: 88.2\n",
      "Perímetro: 33.28\n"
     ]
    }
   ],
   "source": [
    "raio = float(input(\"Informe o raio da circunferência: \"))\n",
    "\n",
    "area = round(3.14 * (raio ** 2), 2)\n",
    "perimetro = round(2 * 3.14 * raio, 2)\n",
    "\n",
    "print(\"Área:\", area)\n",
    "print(\"Perímetro:\", perimetro)"
   ]
  },
  {
   "cell_type": "markdown",
   "metadata": {},
   "source": [
    "1.4 Faça um programa que receba dois valores A e B. Faça a soma desses dois valores e retorne o resultado:\n",
    "\n",
    "Soma:  x.xx\n"
   ]
  },
  {
   "cell_type": "code",
   "execution_count": 13,
   "metadata": {},
   "outputs": [
    {
     "name": "stdout",
     "output_type": "stream",
     "text": [
      "Soma: 33.00\n"
     ]
    }
   ],
   "source": [
    "a = float(input(\"Informe o primeiro número: \"))\n",
    "b = float(input(\"Informe o segundo número: \"))\n",
    "\n",
    "soma = a + b \n",
    "\n",
    "print(f'Soma: {soma:.2f}')\n"
   ]
  },
  {
   "cell_type": "markdown",
   "metadata": {},
   "source": [
    "1.5 Faça um programa que receba dois valores A e B. Faça a potência desses dois valores e retorne o resultado:\n",
    "\n",
    "a ^ b = z\n"
   ]
  },
  {
   "cell_type": "code",
   "execution_count": 14,
   "metadata": {},
   "outputs": [
    {
     "name": "stdout",
     "output_type": "stream",
     "text": [
      "a ^ b = 100\n"
     ]
    }
   ],
   "source": [
    "a = int(input(\"Informe o primeiro número: \"))\n",
    "b = int(input(\"Informe o segundo número: \"))\n",
    "\n",
    "c = a ** b \n",
    "\n",
    "print(f'a ^ b = {c}')"
   ]
  },
  {
   "cell_type": "markdown",
   "metadata": {},
   "source": [
    "1.6 Faça um programa que receba um número em segundos, converta esse número para horas, minuto e segundos. Exemplos:\n",
    "\n",
    "Entrada: 556\n",
    "Saída: 0:9:16\n",
    "\n",
    "Entrada: 140153\n",
    "Saída: 38:55:53\n"
   ]
  },
  {
   "cell_type": "code",
   "execution_count": 4,
   "metadata": {},
   "outputs": [
    {
     "name": "stdout",
     "output_type": "stream",
     "text": [
      "Entrada: 3690\n",
      "Saída:  1:1:30\n"
     ]
    }
   ],
   "source": [
    "segundos = int(input(\"Informe o tempo em segundos: \"))\n",
    "\n",
    "hora = segundos // 3600\n",
    "resto = segundos % 3600\n",
    "min = resto // 60\n",
    "seg = resto % 60\n",
    "\n",
    "print(f'Entrada: {segundos}')\n",
    "print(f'Saída: {hora}:{min}:{seg}')"
   ]
  },
  {
   "cell_type": "markdown",
   "metadata": {},
   "source": [
    "1.7 Faça um programa que receba o nome e a idade de uma pessoa. \n",
    "\n",
    "Caso essa pessoa tenha menos de 18 anos, exiba o aviso:\n",
    "\t“Fulano, você não pode dirigir nem beber”\n",
    "\n",
    "Para as pessoas entre 18 e 65 anos, exiba o aviso:\n",
    "\t“Fulano, bebida liberada! Só não vale dirigir!”\n",
    "\n",
    "Para as pessoas com mais de 65 anos, exiba o aviso:\n",
    "\t“Fulano, beba com muita moderação!”"
   ]
  },
  {
   "cell_type": "code",
   "execution_count": 7,
   "metadata": {},
   "outputs": [
    {
     "name": "stdout",
     "output_type": "stream",
     "text": [
      "joao, beba com muita moderação!\n"
     ]
    }
   ],
   "source": [
    "nome = input('Informe o nome: ')\n",
    "idade = int(input('Informe a idade: '))\n",
    "\n",
    "if idade < 18:\n",
    "    print(f'{nome}, você não pode dirigir nem beber.')\n",
    "\n",
    "if idade >= 18 and idade <= 65:\n",
    "    print(f'{nome}, bebida liberada! Só não vale dirigir!')\n",
    "\n",
    "if idade > 65:\n",
    "    print(f'{nome}, beba com muita moderação!')"
   ]
  },
  {
   "cell_type": "markdown",
   "metadata": {},
   "source": [
    "1.8 Faça um programa que receba um número. Verifique se o número informado é par ou ímpar. Exiba o resultado da seguinte maneira:\n",
    "\n",
    "\tO número x é impar\n",
    "ou\n",
    "\tO número x é par"
   ]
  },
  {
   "cell_type": "code",
   "execution_count": 9,
   "metadata": {},
   "outputs": [
    {
     "name": "stdout",
     "output_type": "stream",
     "text": [
      "O número 3 é ímpar.\n"
     ]
    }
   ],
   "source": [
    "num = int(input('Informe um número inteiro: '))\n",
    "\n",
    "if num % 2 == 0:\n",
    "    print(f'O número {num} é par.')\n",
    "else:\n",
    "    print(f'O número {num} é ímpar.')"
   ]
  }
 ],
 "metadata": {
  "kernelspec": {
   "display_name": "Python 3",
   "language": "python",
   "name": "python3"
  },
  "language_info": {
   "codemirror_mode": {
    "name": "ipython",
    "version": 3
   },
   "file_extension": ".py",
   "mimetype": "text/x-python",
   "name": "python",
   "nbconvert_exporter": "python",
   "pygments_lexer": "ipython3",
   "version": "3.11.4"
  }
 },
 "nbformat": 4,
 "nbformat_minor": 2
}
