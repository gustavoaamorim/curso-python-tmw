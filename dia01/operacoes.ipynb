{
 "cells": [
  {
   "cell_type": "code",
   "execution_count": 1,
   "metadata": {},
   "outputs": [
    {
     "name": "stdout",
     "output_type": "stream",
     "text": [
      "Olá mundo!\n"
     ]
    }
   ],
   "source": [
    "print(\"Olá mundo!\")"
   ]
  },
  {
   "cell_type": "markdown",
   "metadata": {},
   "source": [
    "Operações matemáticas"
   ]
  },
  {
   "cell_type": "code",
   "execution_count": 12,
   "metadata": {},
   "outputs": [
    {
     "name": "stdout",
     "output_type": "stream",
     "text": [
      "Soma 10+1 = 11\n",
      "2\n"
     ]
    }
   ],
   "source": [
    "print(\"Soma 10+1 =\", 10+1)\n",
    "1 + 2\n",
    "print(1 + 1)"
   ]
  },
  {
   "cell_type": "code",
   "execution_count": 1,
   "metadata": {},
   "outputs": [
    {
     "name": "stdout",
     "output_type": "stream",
     "text": [
      "Subtração: 10 - 5= 5\n"
     ]
    }
   ],
   "source": [
    "print(\"Subtração: 10 - 5=\", 10-5)"
   ]
  },
  {
   "cell_type": "code",
   "execution_count": 4,
   "metadata": {},
   "outputs": [
    {
     "name": "stdout",
     "output_type": "stream",
     "text": [
      "Resto da divisão 3 por 2= 1\n"
     ]
    }
   ],
   "source": [
    "print(\"Resto da divisão 3 por 2=\", 3%2)"
   ]
  },
  {
   "cell_type": "code",
   "execution_count": 10,
   "metadata": {},
   "outputs": [
    {
     "name": "stdout",
     "output_type": "stream",
     "text": [
      "Multiplicação: 3 * 2= 6\n",
      "Divisão: 10 / 5 = 2\n",
      "Divisão: 3 / 2= 1.5\n"
     ]
    }
   ],
   "source": [
    "print(\"Multiplicação: 3 * 2=\", 3*2)\n",
    "print(\"Divisão: 10 / 5 =\", 10//5) #divisão inteira\n",
    "print(\"Divisão: 3 / 2=\", 3/2)"
   ]
  },
  {
   "cell_type": "code",
   "execution_count": 11,
   "metadata": {},
   "outputs": [
    {
     "name": "stdout",
     "output_type": "stream",
     "text": [
      "Expoente: 10 ^ 2= 100\n"
     ]
    }
   ],
   "source": [
    "print(\"Expoente: 10 ^ 2=\", 10 ** 2)"
   ]
  }
 ],
 "metadata": {
  "kernelspec": {
   "display_name": "Python 3",
   "language": "python",
   "name": "python3"
  },
  "language_info": {
   "codemirror_mode": {
    "name": "ipython",
    "version": 3
   },
   "file_extension": ".py",
   "mimetype": "text/x-python",
   "name": "python",
   "nbconvert_exporter": "python",
   "pygments_lexer": "ipython3",
   "version": "3.11.4"
  }
 },
 "nbformat": 4,
 "nbformat_minor": 2
}
