{
 "cells": [
  {
   "cell_type": "markdown",
   "metadata": {},
   "source": [
    "1 Escreva um programa que solicite ao usuário uma palavra e verifique se a palavra é um palíndromo (ou seja, é a mesma palavra quando lida de trás para frente)."
   ]
  },
  {
   "cell_type": "code",
   "execution_count": 7,
   "metadata": {},
   "outputs": [
    {
     "name": "stdout",
     "output_type": "stream",
     "text": [
      "A palavra ana é palíndromo.\n",
      "ana\n"
     ]
    }
   ],
   "source": [
    "palavra = input('Insira uma palavra: ')\n",
    "\n",
    "if palavra.lower() == palavra[::-1].lower():\n",
    "    print(f'A palavra {palavra} é palíndromo.')\n",
    "else:\n",
    "    print(f'A palavra {palavra} não é palíndromo.')\n",
    "\n",
    "print(palavra[::-1]) # escreve a palavra ao contrário"
   ]
  },
  {
   "cell_type": "markdown",
   "metadata": {},
   "source": [
    "2 Faça um programa que receba 4 notas de um aluno. Retorne a média dessas notas, a menor e a maior nota:\n",
    "\n",
    "Média: x\n",
    "Menor: y\n",
    "Maior: z\n"
   ]
  },
  {
   "cell_type": "code",
   "execution_count": 12,
   "metadata": {},
   "outputs": [
    {
     "name": "stdout",
     "output_type": "stream",
     "text": [
      "Média: 8.5\n",
      "Menor: 7\n",
      "Maior: 10\n"
     ]
    }
   ],
   "source": [
    "nota1 = int(input('Insira a primeira nota: '))\n",
    "nota2 = int(input('Insira a segunda nota: '))\n",
    "nota3 = int(input('Insira a terceira nota: '))\n",
    "nota4 = int(input('Insira a quarta nota: '))\n",
    "\n",
    "media = (nota1 + nota2 + nota3 + nota4)/ 4\n",
    "print(f'Média: {media}')\n",
    "\n",
    "if nota1 < nota2 and nota1 < nota3 and nota1 < nota4:\n",
    "    print(f'Menor: {nota1}')\n",
    "elif nota2 < nota1 and nota2 < nota3 and nota2 < nota4:\n",
    "    print(f'Menor: {nota2}')\n",
    "elif nota3 < nota1 and nota3 < nota2 and nota3 < nota4:\n",
    "    print(f'Menor: {nota3}')\n",
    "else:\n",
    "    print(f'Menor: {nota4}')\n",
    "\n",
    "if nota1 > nota2 and nota1 > nota3 and nota1 > nota4:\n",
    "    print(f'Maior: {nota1}')\n",
    "elif nota2 > nota1 and nota2 > nota3 and nota2 > nota4:\n",
    "    print(f'Maior: {nota2}')\n",
    "elif nota3 > nota1 and nota3 > nota2 and nota3 > nota4:\n",
    "    print(f'Maior: {nota3}')\n",
    "else:\n",
    "    print(f'Maior: {nota4}')\n",
    "\n"
   ]
  },
  {
   "cell_type": "markdown",
   "metadata": {},
   "source": [
    "3 Considere a lista: [120, “Python”, 120.01, “asw”, False, [10,20] ]\n",
    "\n",
    "Faça um programa que retorne as seguintes informações:\n",
    "- Elemento na posição -1 da lista\n",
    "- Elemento na primeira posição da lista\n",
    "- O último caractere do segundo elemento da lista\n",
    "\n",
    "Elemento -1: x\n",
    "Primeiro elemento: y\n",
    "Último caractere do segundo elemento: z\n"
   ]
  },
  {
   "cell_type": "code",
   "execution_count": 14,
   "metadata": {},
   "outputs": [
    {
     "name": "stdout",
     "output_type": "stream",
     "text": [
      "Elemento -1: [10, 20]\n",
      "Primeiro elemento: 120\n",
      "Último caractere do segundo elemento: n\n"
     ]
    }
   ],
   "source": [
    "lista = [120, 'Python', 120.01, 'asw', False, [10,20] ]\n",
    "\n",
    "print(f'Elemento -1: {lista[-1]}')\n",
    "print(f'Primeiro elemento: {lista[0]}')\n",
    "print(f'Último caractere do segundo elemento: {lista[1][-1]}')"
   ]
  },
  {
   "cell_type": "markdown",
   "metadata": {},
   "source": [
    "4 Escreva um programa que solicite ao usuário duas strings e as concatene em uma única String. Em seguida, exiba a String resultante."
   ]
  },
  {
   "cell_type": "code",
   "execution_count": 15,
   "metadata": {},
   "outputs": [
    {
     "name": "stdout",
     "output_type": "stream",
     "text": [
      "gustavo amorim\n"
     ]
    }
   ],
   "source": [
    "texto1 = input('Infome uma palavra: ')\n",
    "texto2 = input('Informe outra palavra: ')\n",
    "\n",
    "texto3 = texto1 + ' ' + texto2\n",
    "\n",
    "print(texto3)"
   ]
  },
  {
   "cell_type": "markdown",
   "metadata": {},
   "source": [
    "5 Refaça o exercício 2 utilizando for e listas para receber as notas dos alunos"
   ]
  },
  {
   "cell_type": "code",
   "execution_count": 1,
   "metadata": {},
   "outputs": [
    {
     "name": "stdout",
     "output_type": "stream",
     "text": [
      "[9.4, 6.9, 7.0, 10.0]\n",
      "Média: 8.325\n",
      "Menor: 6.9\n",
      "Maior: 10.0\n"
     ]
    }
   ],
   "source": [
    "notas = []\n",
    "\n",
    "for i in range(4):\n",
    "    notas.append(float(input(f'Informe a nota {i+1}: ')))\n",
    "\n",
    "print(notas)\n",
    "media = sum(notas)/len(notas)\n",
    "menor = min(notas)\n",
    "maior = max(notas)\n",
    "\n",
    "print(f'Média: {media:.2f}')\n",
    "print(f'Menor: {menor}')\n",
    "print(f'Maior: {maior}')"
   ]
  },
  {
   "cell_type": "markdown",
   "metadata": {},
   "source": [
    "6 Faça um programa com uma função que recebe uma frase. Para cada palavra nesta frase, inverta a ordem das letras. Exiba o resultado:\n",
    "\n",
    "\tEsta é a frase original\n",
    "\n",
    "\tatsE é a esarf lanigiro\n"
   ]
  },
  {
   "cell_type": "code",
   "execution_count": 11,
   "metadata": {},
   "outputs": [
    {
     "name": "stdout",
     "output_type": "stream",
     "text": [
      "Esta é a frase original\n",
      "atsE é a esarf lanigiro\n"
     ]
    }
   ],
   "source": [
    "frase = input('Insira a frase: ')\n",
    "\n",
    "lista = frase.split()\n",
    "nova_lista = []\n",
    "\n",
    "for i in range(len(lista)):\n",
    "    nova_lista.append(lista[i][::-1])\n",
    "\n",
    "nova_frase = ' '.join(nova_lista)\n",
    "print(frase)\n",
    "print(nova_frase)"
   ]
  },
  {
   "cell_type": "markdown",
   "metadata": {},
   "source": [
    "7 Considere a seguinte lista:\n",
    "[123, 435, 987, 1984, 2, 19, 423, -178, 320]\n",
    "\n",
    "Faça um programa que retorne a posição do menor e do maior valor encontrado:\n",
    "\n",
    "O maior valor está na posição x\n",
    "O menor valor está na posição y\n"
   ]
  },
  {
   "cell_type": "code",
   "execution_count": 15,
   "metadata": {},
   "outputs": [
    {
     "name": "stdout",
     "output_type": "stream",
     "text": [
      "O maior valor (1984) está na posição 3\n",
      "O menor valor (-178) está na posição 7\n"
     ]
    }
   ],
   "source": [
    "lista = [123, 435, 987, 1984, 2, 19, 423, -178, 320]\n",
    "\n",
    "menor = lista[0]\n",
    "maior = lista[0]\n",
    "x = 0\n",
    "y = 0\n",
    "\n",
    "for i in range(len(lista)):\n",
    "    if lista[i] < menor:\n",
    "        menor = lista[i]\n",
    "        y = i\n",
    "    if lista[i] > maior:\n",
    "        maior = lista[i]\n",
    "        x = i\n",
    "\n",
    "print(f'O maior valor ({maior}) está na posição {x}')\n",
    "print(f'O menor valor ({menor}) está na posição {y}')\n"
   ]
  },
  {
   "cell_type": "code",
   "execution_count": 2,
   "metadata": {},
   "outputs": [
    {
     "name": "stdout",
     "output_type": "stream",
     "text": [
      "O maior valor (1984) está na posição 3\n",
      "O menor valor (-178) está na posição 7\n"
     ]
    }
   ],
   "source": [
    "# outra resolução possível\n",
    "\n",
    "lista = [123, 435, 987, 1984, 2, 19, 423, -178, 320]\n",
    "\n",
    "menor = min(lista)\n",
    "maior = max(lista)\n",
    "\n",
    "menor_index = lista.index(menor)\n",
    "maior_index = lista.index(maior)\n",
    "\n",
    "print(f'O maior valor ({maior}) está na posição {maior_index}')\n",
    "print(f'O menor valor ({menor}) está na posição {menor_index}')"
   ]
  },
  {
   "cell_type": "markdown",
   "metadata": {},
   "source": [
    "8 Escreva um programa que receba uma lista de números do usuário e conte quantas vezes um número específico aparece na lista. Solicite ao usuário um número e exiba a contagem."
   ]
  },
  {
   "cell_type": "code",
   "execution_count": 5,
   "metadata": {},
   "outputs": [
    {
     "name": "stdout",
     "output_type": "stream",
     "text": [
      "[2, 4, 3, 3, 2, 6, 7, 9, 5, 6, 4, 8, 7]\n",
      "O número 7 aparece 2 vezes.\n"
     ]
    }
   ],
   "source": [
    "lista = []\n",
    "\n",
    "while True:\n",
    "    entrada = input(f'Infome um número ou aperte Enter para sair: ')\n",
    "\n",
    "    if entrada == '':\n",
    "        break\n",
    "\n",
    "    lista.append(int(entrada))\n",
    "\n",
    "num_lista = int(input('Qual número você deseja contar na lista: '))\n",
    "\n",
    "cont = 0\n",
    "for i in lista:\n",
    "    if i == num_lista:\n",
    "        cont += 1\n",
    "\n",
    "print(lista)\n",
    "print(f'O número {num_lista} aparece {cont} vezes.')\n",
    "\n"
   ]
  },
  {
   "cell_type": "code",
   "execution_count": 6,
   "metadata": {},
   "outputs": [
    {
     "name": "stdout",
     "output_type": "stream",
     "text": [
      "O número 2 aparece 4 vezes.\n"
     ]
    }
   ],
   "source": [
    "# outra forma de fazer\n",
    "lista = []\n",
    "\n",
    "while True:\n",
    "    entrada = input(f'Infome um número ou aperte Enter para sair: ')\n",
    "\n",
    "    if entrada == '':\n",
    "        break\n",
    "\n",
    "    lista.append(int(entrada))\n",
    "\n",
    "num_lista = int(input('Qual número você deseja contar na lista: '))\n",
    "\n",
    "qntd = lista.count(num_lista)\n",
    "print(f'O número {num_lista} aparece {qntd} vezes.')"
   ]
  }
 ],
 "metadata": {
  "kernelspec": {
   "display_name": "Python 3",
   "language": "python",
   "name": "python3"
  },
  "language_info": {
   "codemirror_mode": {
    "name": "ipython",
    "version": 3
   },
   "file_extension": ".py",
   "mimetype": "text/x-python",
   "name": "python",
   "nbconvert_exporter": "python",
   "pygments_lexer": "ipython3",
   "version": "3.11.4"
  }
 },
 "nbformat": 4,
 "nbformat_minor": 2
}
