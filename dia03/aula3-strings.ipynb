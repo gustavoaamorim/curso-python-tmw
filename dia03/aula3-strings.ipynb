{
 "cells": [
  {
   "cell_type": "markdown",
   "metadata": {},
   "source": [
    "Strings"
   ]
  },
  {
   "cell_type": "code",
   "execution_count": 1,
   "metadata": {},
   "outputs": [
    {
     "name": "stdout",
     "output_type": "stream",
     "text": [
      "Gustavo\n"
     ]
    }
   ],
   "source": [
    "meu_nome = 'Gustavo'\n",
    "print(meu_nome)"
   ]
  },
  {
   "cell_type": "markdown",
   "metadata": {},
   "source": [
    "Manipulação de strings"
   ]
  },
  {
   "cell_type": "code",
   "execution_count": 4,
   "metadata": {},
   "outputs": [
    {
     "name": "stdout",
     "output_type": "stream",
     "text": [
      "GUSTAVO\n",
      "gustavo\n"
     ]
    }
   ],
   "source": [
    "# deixando todas as letras em maiúsculas ou minúsculas\n",
    "print(meu_nome.upper())\n",
    "print(meu_nome.lower())"
   ]
  },
  {
   "cell_type": "code",
   "execution_count": 5,
   "metadata": {},
   "outputs": [
    {
     "data": {
      "text/plain": [
       "'Olá, Bom Dia!'"
      ]
     },
     "execution_count": 5,
     "metadata": {},
     "output_type": "execute_result"
    }
   ],
   "source": [
    "# caixa alta no início das palavras\n",
    "frase = 'olá, bom dia!'\n",
    "frase.title()"
   ]
  },
  {
   "cell_type": "code",
   "execution_count": 8,
   "metadata": {},
   "outputs": [
    {
     "name": "stdout",
     "output_type": "stream",
     "text": [
      "True\n",
      "False\n"
     ]
    }
   ],
   "source": [
    "# verificando se a string termina com uma expressão ou letra específica\n",
    "\n",
    "print(frase.endswith('dia!'))\n",
    "print(frase.endswith('Dia!'))"
   ]
  },
  {
   "cell_type": "code",
   "execution_count": 10,
   "metadata": {},
   "outputs": [
    {
     "data": {
      "text/plain": [
       "True"
      ]
     },
     "execution_count": 10,
     "metadata": {},
     "output_type": "execute_result"
    }
   ],
   "source": [
    "# verificando se a string começa com uma expresão ou letra específica\n",
    "frase.startswith('olá')"
   ]
  },
  {
   "cell_type": "markdown",
   "metadata": {},
   "source": [
    "Fatiamento de strings"
   ]
  },
  {
   "cell_type": "code",
   "execution_count": 12,
   "metadata": {},
   "outputs": [
    {
     "name": "stdout",
     "output_type": "stream",
     "text": [
      "G\n",
      "v\n"
     ]
    }
   ],
   "source": [
    "# selecionando o caractere de acordo com a posição\n",
    "print(meu_nome[0])\n",
    "print(meu_nome[5])"
   ]
  },
  {
   "cell_type": "code",
   "execution_count": 13,
   "metadata": {},
   "outputs": [
    {
     "data": {
      "text/plain": [
       "7"
      ]
     },
     "execution_count": 13,
     "metadata": {},
     "output_type": "execute_result"
    }
   ],
   "source": [
    "# verificando o tamanho do objeto\n",
    "len(meu_nome)"
   ]
  },
  {
   "cell_type": "code",
   "execution_count": 14,
   "metadata": {},
   "outputs": [
    {
     "name": "stdout",
     "output_type": "stream",
     "text": [
      "o\n",
      "v\n"
     ]
    }
   ],
   "source": [
    "# verificando o último e penúltimo elemento do objeto\n",
    "print(meu_nome[-1]) # ultimo elemento\n",
    "print(meu_nome[-2]) # penultimo elemento"
   ]
  },
  {
   "cell_type": "code",
   "execution_count": 21,
   "metadata": {},
   "outputs": [
    {
     "name": "stdout",
     "output_type": "stream",
     "text": [
      "Gus\n",
      "stavo\n",
      "Gustav\n",
      "Gsao\n"
     ]
    }
   ],
   "source": [
    "# fatiando o objeto\n",
    "print(meu_nome[0:3]) # pega os elementos da posição 0 até 3-1\n",
    "print(meu_nome[2:8]) # posição 2 até 7 (8-1)\n",
    "\n",
    "print(meu_nome[0:-1]) # posição inicial até penultimo\n",
    "\n",
    "print(meu_nome[::2]) # usando step 2 para imprimir de 2 em 2"
   ]
  }
 ],
 "metadata": {
  "kernelspec": {
   "display_name": "Python 3",
   "language": "python",
   "name": "python3"
  },
  "language_info": {
   "codemirror_mode": {
    "name": "ipython",
    "version": 3
   },
   "file_extension": ".py",
   "mimetype": "text/x-python",
   "name": "python",
   "nbconvert_exporter": "python",
   "pygments_lexer": "ipython3",
   "version": "3.11.4"
  }
 },
 "nbformat": 4,
 "nbformat_minor": 2
}
