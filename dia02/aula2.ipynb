{
 "cells": [
  {
   "cell_type": "markdown",
   "metadata": {},
   "source": [
    "If... Elif... Else..."
   ]
  },
  {
   "cell_type": "code",
   "execution_count": 3,
   "metadata": {},
   "outputs": [
    {
     "name": "stdout",
     "output_type": "stream",
     "text": [
      "Acertou miserávi!\n"
     ]
    }
   ],
   "source": [
    "# loteria babilônia\n",
    "\n",
    "numero = int(input('Insira um número da sorte entre 1 e 15: '))\n",
    "\n",
    "sorte = 7\n",
    "\n",
    "if numero < 7:\n",
    "    print('Tente um número maior!')\n",
    "elif numero > 7:\n",
    "    print('Tente um número menor!')\n",
    "else:\n",
    "    print('Acertou miserávi!')"
   ]
  },
  {
   "cell_type": "markdown",
   "metadata": {},
   "source": [
    "Laço de repetição While"
   ]
  },
  {
   "cell_type": "code",
   "execution_count": 11,
   "metadata": {},
   "outputs": [
    {
     "name": "stdout",
     "output_type": "stream",
     "text": [
      "1 2 3 4 5 6 7 8 9 10 "
     ]
    }
   ],
   "source": [
    "i = 1\n",
    "\n",
    "while i <= 10:\n",
    "    print(i, end=' ')\n",
    "    i += 1"
   ]
  },
  {
   "cell_type": "code",
   "execution_count": 13,
   "metadata": {},
   "outputs": [
    {
     "name": "stdout",
     "output_type": "stream",
     "text": [
      "1 2 3 4 5 6 7 8 9 10 \n",
      "Parando o laço while\n"
     ]
    }
   ],
   "source": [
    "# usando break para parar o laço\n",
    "i = 1\n",
    "while True:\n",
    "    print(i, end=' ')\n",
    "    i += 1\n",
    "    if i > 10:\n",
    "        print(f'\\nParando o laço while')\n",
    "        break"
   ]
  },
  {
   "cell_type": "markdown",
   "metadata": {},
   "source": [
    "Laço de repetição For"
   ]
  },
  {
   "cell_type": "code",
   "execution_count": 1,
   "metadata": {},
   "outputs": [
    {
     "name": "stdout",
     "output_type": "stream",
     "text": [
      "G u s t a v o "
     ]
    }
   ],
   "source": [
    "nome = 'Gustavo'\n",
    "\n",
    "for i in nome:\n",
    "    print(i, end=' ')"
   ]
  },
  {
   "cell_type": "code",
   "execution_count": 6,
   "metadata": {},
   "outputs": [
    {
     "name": "stdout",
     "output_type": "stream",
     "text": [
      "1 2 3 4 5 6 7 8 9 10 "
     ]
    }
   ],
   "source": [
    "# usando range\n",
    "for i in range(1, 11):\n",
    "    print(i, end=' ')"
   ]
  },
  {
   "cell_type": "code",
   "execution_count": 7,
   "metadata": {},
   "outputs": [
    {
     "name": "stdout",
     "output_type": "stream",
     "text": [
      "3 4 5 6 7 8 9 10 11 12 13 14 15 16 17 "
     ]
    }
   ],
   "source": [
    "i = int(input('Entre com o valor mínimo: '))\n",
    "j = int(input('Entre com o valor máximo: '))\n",
    "\n",
    "for i in range(i, j+1):\n",
    "    print(i, end=' ')"
   ]
  },
  {
   "cell_type": "markdown",
   "metadata": {},
   "source": [
    "Try e Except"
   ]
  },
  {
   "cell_type": "code",
   "execution_count": 4,
   "metadata": {},
   "outputs": [
    {
     "name": "stdout",
     "output_type": "stream",
     "text": [
      "Valor fora do limite permitido.\n"
     ]
    }
   ],
   "source": [
    "# loteria babilônia com tratamento de erro\n",
    "try:\n",
    "    numero = int(input('Insira um número da sorte entre 1 e 15: '))\n",
    "\n",
    "    sorte = 7\n",
    "\n",
    "    if numero < 7 and numero in range(1, 16):\n",
    "        print('Tente um número maior!')\n",
    "    elif numero > 7 and numero in range(1, 16):\n",
    "        print('Tente um número menor!')\n",
    "    elif numero == 7:\n",
    "        print('Acertou miserávi!')\n",
    "    else:\n",
    "        print('Valor fora do limite permitido.')\n",
    "\n",
    "except ValueError as err:\n",
    "    print('Entrada inválida. Digite um número inteiro.')"
   ]
  }
 ],
 "metadata": {
  "kernelspec": {
   "display_name": "Python 3",
   "language": "python",
   "name": "python3"
  },
  "language_info": {
   "codemirror_mode": {
    "name": "ipython",
    "version": 3
   },
   "file_extension": ".py",
   "mimetype": "text/x-python",
   "name": "python",
   "nbconvert_exporter": "python",
   "pygments_lexer": "ipython3",
   "version": "3.11.4"
  }
 },
 "nbformat": 4,
 "nbformat_minor": 2
}
