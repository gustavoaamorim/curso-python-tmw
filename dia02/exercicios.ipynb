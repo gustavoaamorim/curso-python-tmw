{
 "cells": [
  {
   "cell_type": "markdown",
   "metadata": {},
   "source": [
    "1 Faça um programa que receba um número. Este número corresponde a uma posição na sequência de Fibonacci: 0, 1, 1, 2, 3, 5,...\n",
    "\n",
    "Exiba o número da sequência cuja posição foi informada:\n",
    "\tA posição x corresponde ao número y\n"
   ]
  },
  {
   "cell_type": "code",
   "execution_count": 1,
   "metadata": {},
   "outputs": [
    {
     "name": "stdout",
     "output_type": "stream",
     "text": [
      "A posição 7 corresponde ao número 8\n"
     ]
    }
   ],
   "source": [
    "numero = int(input('Entre com um número correspondente à posição Fibonacci: '))\n",
    "\n",
    "fib0 = 0\n",
    "fib1 = 1\n",
    "fibn = 1\n",
    "\n",
    "i = 1\n",
    "while i < numero:\n",
    "    fibn = fib1 + fib0\n",
    "    fib0 = fib1\n",
    "    fib1 = fibn\n",
    "    i += 1\n",
    "\n",
    "print(f'A posição {numero} corresponde ao número {fib0}')"
   ]
  },
  {
   "cell_type": "markdown",
   "metadata": {},
   "source": [
    "2 Faça um programa que receba um número. Verifique se este número é primo ou não, e retorne o resultado:\n",
    "\n",
    "\tO número x é primo\n",
    "ou\n",
    "\tO número x não é primo"
   ]
  },
  {
   "cell_type": "code",
   "execution_count": 2,
   "metadata": {},
   "outputs": [
    {
     "name": "stdout",
     "output_type": "stream",
     "text": [
      "O número 87 não é primo.\n"
     ]
    }
   ],
   "source": [
    "numero = int(input('Informe um número: '))\n",
    "\n",
    "# definindo variável para contar número de divisores\n",
    "divisores = 0\n",
    "\n",
    "# definindo variável para testar as divisões\n",
    "i = 1\n",
    "\n",
    "# se o número for divisível por i a variável divisores é incrementada\n",
    "while i <= numero:\n",
    "    if numero % i == 0: \n",
    "        divisores += 1\n",
    "    i += 1\n",
    "\n",
    "# testando se o número tem apenas 2 divisores (1 e ele mesmo para ser primo)\n",
    "if divisores == 2:\n",
    "    print(f'O número {numero} é primo.')\n",
    "else:\n",
    "    print(f'O número {numero} não é primo.')"
   ]
  },
  {
   "cell_type": "markdown",
   "metadata": {},
   "source": [
    "3 Escreva um programa que exiba os números de 1 a 100. Caso o número seja divisível por 3, exiba “Fizz” no seu lugar, e para múltiplos de 5 exiba “Buzz”. Caso seja divisível por ambos, exiba “FizzBuzz”."
   ]
  },
  {
   "cell_type": "code",
   "execution_count": null,
   "metadata": {},
   "outputs": [],
   "source": [
    "for i in range(1, 101):\n",
    "    if i % 3 == 0 and i % 5 == 0:\n",
    "        i = 'fizzbuzz'\n",
    "        print(i)\n",
    "    elif i % 5 == 0:\n",
    "        i = 'buzz'\n",
    "        print(i)\n",
    "    elif i % 3 == 0:\n",
    "        i = 'fizz'\n",
    "        print(i)\n",
    "    else:\n",
    "        print(i)"
   ]
  },
  {
   "cell_type": "markdown",
   "metadata": {},
   "source": [
    "4 Faça um programa que receba um número e retorne seu fatorial."
   ]
  },
  {
   "cell_type": "code",
   "execution_count": 3,
   "metadata": {},
   "outputs": [
    {
     "name": "stdout",
     "output_type": "stream",
     "text": [
      "3628800\n"
     ]
    }
   ],
   "source": [
    "num = int(input('Informe um número: '))\n",
    "\n",
    "resultado = 1 \n",
    "\n",
    "for i in range(1, num+1):\n",
    "    resultado = resultado * i\n",
    "\n",
    "print(resultado)"
   ]
  },
  {
   "cell_type": "markdown",
   "metadata": {},
   "source": [
    "Escreva um programa que solicite ao usuário um número e exiba a tabuada desse número de 1 a 10."
   ]
  },
  {
   "cell_type": "code",
   "execution_count": 4,
   "metadata": {},
   "outputs": [
    {
     "name": "stdout",
     "output_type": "stream",
     "text": [
      "1 x 7 = 7\n",
      "2 x 7 = 14\n",
      "3 x 7 = 21\n",
      "4 x 7 = 28\n",
      "5 x 7 = 35\n",
      "6 x 7 = 42\n",
      "7 x 7 = 49\n",
      "8 x 7 = 56\n",
      "9 x 7 = 63\n",
      "10 x 7 = 70\n"
     ]
    }
   ],
   "source": [
    "num = int(input('Informe um número: '))\n",
    "\n",
    "for i in range(1, 11):\n",
    "    print(f'{i} x {num} = {i*num}')"
   ]
  }
 ],
 "metadata": {
  "kernelspec": {
   "display_name": "Python 3",
   "language": "python",
   "name": "python3"
  },
  "language_info": {
   "codemirror_mode": {
    "name": "ipython",
    "version": 3
   },
   "file_extension": ".py",
   "mimetype": "text/x-python",
   "name": "python",
   "nbconvert_exporter": "python",
   "pygments_lexer": "ipython3",
   "version": "3.11.4"
  }
 },
 "nbformat": 4,
 "nbformat_minor": 2
}
