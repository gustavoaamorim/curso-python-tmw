{
 "cells": [
  {
   "cell_type": "markdown",
   "metadata": {},
   "source": [
    "Escreva um programa que crie um dicionário com nomes de frutas como chaves e seus respectivos preços como valores. Solicite ao usuário o nome de uma fruta e exiba o preço correspondente.\n"
   ]
  },
  {
   "cell_type": "code",
   "execution_count": 2,
   "metadata": {},
   "outputs": [
    {
     "name": "stdout",
     "output_type": "stream",
     "text": [
      "O preço da fruta jaca é R$5.8\n"
     ]
    }
   ],
   "source": [
    "frutas = {\n",
    "    'maçã':1.50,\n",
    "    'banana':2.75,\n",
    "    'uva':1.90,\n",
    "    'pera':1.25,\n",
    "    'laranja':0.65,\n",
    "    'limão':1.25,\n",
    "    'goiaba':2.15,\n",
    "    'abacaxi':3.25,\n",
    "    'jaca':5.80\n",
    "    }\n",
    "\n",
    "consulta = input('Qual fruta deseja consultar: ')\n",
    "\n",
    "if consulta in frutas.keys():\n",
    "    preco = frutas[consulta]\n",
    "    print(f'O preço da fruta {consulta} é R${preco}')\n",
    "else:\n",
    "    print(f'A fruta {consulta} não foi encontrada.')"
   ]
  }
 ],
 "metadata": {
  "kernelspec": {
   "display_name": "Python 3",
   "language": "python",
   "name": "python3"
  },
  "language_info": {
   "codemirror_mode": {
    "name": "ipython",
    "version": 3
   },
   "file_extension": ".py",
   "mimetype": "text/x-python",
   "name": "python",
   "nbconvert_exporter": "python",
   "pygments_lexer": "ipython3",
   "version": "3.11.4"
  }
 },
 "nbformat": 4,
 "nbformat_minor": 2
}
