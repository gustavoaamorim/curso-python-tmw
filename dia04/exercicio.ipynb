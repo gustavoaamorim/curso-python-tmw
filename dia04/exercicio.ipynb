{
 "cells": [
  {
   "cell_type": "markdown",
   "metadata": {},
   "source": [
    "Escreva um programa que crie um dicionário com nomes de frutas como chaves e seus respectivos preços como valores. Solicite ao usuário o nome de uma fruta e exiba o preço correspondente.\n"
   ]
  },
  {
   "cell_type": "code",
   "execution_count": 2,
   "metadata": {},
   "outputs": [
    {
     "name": "stdout",
     "output_type": "stream",
     "text": [
      "O preço da fruta limão é R$1.25\n"
     ]
    }
   ],
   "source": [
    "frutas = {'maçã':1.50, 'banana':2.75, 'uva':1.90, 'pera':1.25, 'laranja':0.65, 'limão':1.25, 'goiaba':2.15, 'abacaxi':3.25, 'jaca':5.80}\n",
    "\n",
    "consulta = input('Qual fruta deseja consultar: ')\n",
    "\n",
    "print(f'O preço da fruta {consulta} é R${frutas[consulta]}')"
   ]
  }
 ],
 "metadata": {
  "kernelspec": {
   "display_name": "Python 3",
   "language": "python",
   "name": "python3"
  },
  "language_info": {
   "codemirror_mode": {
    "name": "ipython",
    "version": 3
   },
   "file_extension": ".py",
   "mimetype": "text/x-python",
   "name": "python",
   "nbconvert_exporter": "python",
   "pygments_lexer": "ipython3",
   "version": "3.11.4"
  }
 },
 "nbformat": 4,
 "nbformat_minor": 2
}
