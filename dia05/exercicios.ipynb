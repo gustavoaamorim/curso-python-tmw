{
 "cells": [
  {
   "cell_type": "markdown",
   "metadata": {},
   "source": [
    "Refazendo exercícios anteriores usando funções"
   ]
  },
  {
   "cell_type": "markdown",
   "metadata": {},
   "source": [
    "Faça um programa que receba um número e retorne o fatorial"
   ]
  },
  {
   "cell_type": "code",
   "execution_count": 2,
   "metadata": {},
   "outputs": [
    {
     "name": "stdout",
     "output_type": "stream",
     "text": [
      "8! = 40320\n"
     ]
    }
   ],
   "source": [
    "def fat(x):\n",
    "    total = 1\n",
    "    for i in range(1, x+1):\n",
    "        total *= i\n",
    "    return total \n",
    "\n",
    "num = int(input('Informe um número inteiro: '))\n",
    "\n",
    "fatorial_num = fat(num)\n",
    "\n",
    "print(f'{num}! = {fatorial_num}')"
   ]
  },
  {
   "cell_type": "markdown",
   "metadata": {},
   "source": [
    "Crie uma função que retorne se o número é par ou ímpar"
   ]
  },
  {
   "cell_type": "code",
   "execution_count": 3,
   "metadata": {},
   "outputs": [
    {
     "name": "stdout",
     "output_type": "stream",
     "text": [
      "O número 1 é ímpar\n",
      "O número 2 é par\n"
     ]
    }
   ],
   "source": [
    "def par_impar(x):\n",
    "    if x % 2 == 0:\n",
    "        return 'par'\n",
    "    else:\n",
    "        return 'ímpar'\n",
    "    \n",
    "n1 = int(input('Informe um número inteiro: '))\n",
    "n2 = int(input('Informe um número inteiro: '))\n",
    "\n",
    "print(f'O número {n1} é {par_impar(n1)}')\n",
    "print(f'O número {n2} é {par_impar(n2)}')"
   ]
  }
 ],
 "metadata": {
  "kernelspec": {
   "display_name": "Python 3",
   "language": "python",
   "name": "python3"
  },
  "language_info": {
   "codemirror_mode": {
    "name": "ipython",
    "version": 3
   },
   "file_extension": ".py",
   "mimetype": "text/x-python",
   "name": "python",
   "nbconvert_exporter": "python",
   "pygments_lexer": "ipython3",
   "version": "3.11.4"
  }
 },
 "nbformat": 4,
 "nbformat_minor": 2
}
