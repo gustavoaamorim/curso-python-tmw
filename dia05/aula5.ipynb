{
 "cells": [
  {
   "cell_type": "markdown",
   "metadata": {},
   "source": [
    "## Módulos e bibliotecas"
   ]
  },
  {
   "cell_type": "code",
   "execution_count": 1,
   "metadata": {},
   "outputs": [],
   "source": [
    "# importando a biblioteca math\n",
    "import math "
   ]
  },
  {
   "cell_type": "code",
   "execution_count": 2,
   "metadata": {},
   "outputs": [
    {
     "name": "stdout",
     "output_type": "stream",
     "text": [
      "pi = 3.141592653589793\n",
      "2^4 =  16.0\n"
     ]
    }
   ],
   "source": [
    "# métodos do math\n",
    "\n",
    "print('pi =', math.pi)\n",
    "\n",
    "print('2^4 = ', math.pow(2,4))"
   ]
  },
  {
   "cell_type": "code",
   "execution_count": 3,
   "metadata": {},
   "outputs": [
    {
     "data": {
      "text/plain": [
       "25.0"
      ]
     },
     "execution_count": 3,
     "metadata": {},
     "output_type": "execute_result"
    }
   ],
   "source": [
    "# importando apenas o método da biblioteca\n",
    "from math import pow\n",
    "math.pow(5,2)"
   ]
  },
  {
   "cell_type": "markdown",
   "metadata": {},
   "source": [
    "### Acessando arquivos no Python"
   ]
  },
  {
   "cell_type": "code",
   "execution_count": 11,
   "metadata": {},
   "outputs": [],
   "source": [
    "# para abrir arquivos usamos o open. O 'w' determina que o arquivo será criado para escrita caso não exista\n",
    "\n",
    "arquivo = open('meu_arquivo1.txt', 'w', encoding='utf-8')"
   ]
  },
  {
   "cell_type": "code",
   "execution_count": 12,
   "metadata": {},
   "outputs": [
    {
     "data": {
      "text/plain": [
       "66"
      ]
     },
     "execution_count": 12,
     "metadata": {},
     "output_type": "execute_result"
    }
   ],
   "source": [
    "# o método write é usado para escrever dentro do arquivo\n",
    "arquivo.write('Este é meu arquivo de texto usando os métodos open, write e close.')"
   ]
  },
  {
   "cell_type": "code",
   "execution_count": 13,
   "metadata": {},
   "outputs": [],
   "source": [
    "# sempre devemos usar o close para fechar o arquivo.\n",
    "arquivo.close()"
   ]
  },
  {
   "cell_type": "code",
   "execution_count": 14,
   "metadata": {},
   "outputs": [],
   "source": [
    "# ao usar with não é necessário fechar o arquivo após escrever\n",
    "\n",
    "with open('meu_arquivo.txt', 'w') as open_file:\n",
    "    open_file.write('Abrindo arquivo com with...\\n')"
   ]
  },
  {
   "cell_type": "code",
   "execution_count": 15,
   "metadata": {},
   "outputs": [],
   "source": [
    "# usando o modo 'a' para adicionar novas linhas ao arquivo\n",
    "\n",
    "with open('meu_arquivo.txt', 'a') as open_file:\n",
    "    open_file.write('Adicionando uma nova linha usando o modo \"a\"\\n')"
   ]
  },
  {
   "cell_type": "code",
   "execution_count": 17,
   "metadata": {},
   "outputs": [
    {
     "name": "stdout",
     "output_type": "stream",
     "text": [
      "ï»¿nome;idade\n",
      "gustavo;33\n",
      "nicolle;29\n",
      "maria;38\n",
      "carlos;43\n",
      "joÃ£o;19\n",
      "\n"
     ]
    },
    {
     "data": {
      "text/plain": [
       "str"
      ]
     },
     "execution_count": 17,
     "metadata": {},
     "output_type": "execute_result"
    }
   ],
   "source": [
    "# abrindo um arquivo csv com read\n",
    "\n",
    "with open('dados.csv', 'r') as open_file:\n",
    "    dados = open_file.read() # qndo usamos o read o arquivo se torna do tipo str\n",
    "\n",
    "print(dados)\n",
    "type(dados)"
   ]
  },
  {
   "cell_type": "code",
   "execution_count": 21,
   "metadata": {},
   "outputs": [
    {
     "name": "stdout",
     "output_type": "stream",
     "text": [
      "['\\ufeffnome;idade\\n', 'gustavo;33\\n', 'nicolle;29\\n', 'maria;38\\n', 'carlos;43\\n', 'joão;19\\n']\n"
     ]
    },
    {
     "data": {
      "text/plain": [
       "list"
      ]
     },
     "execution_count": 21,
     "metadata": {},
     "output_type": "execute_result"
    }
   ],
   "source": [
    "# abrindo um arquivo csv com readlines\n",
    "\n",
    "with open('dados.csv', 'r', encoding='utf-8') as open_file:\n",
    "    dados = open_file.readlines() # qndo usamos o readlines o arquivo se torna do tipo list\n",
    "\n",
    "print(dados)\n",
    "type(dados)"
   ]
  }
 ],
 "metadata": {
  "kernelspec": {
   "display_name": "Python 3",
   "language": "python",
   "name": "python3"
  },
  "language_info": {
   "codemirror_mode": {
    "name": "ipython",
    "version": 3
   },
   "file_extension": ".py",
   "mimetype": "text/x-python",
   "name": "python",
   "nbconvert_exporter": "python",
   "pygments_lexer": "ipython3",
   "version": "3.11.4"
  }
 },
 "nbformat": 4,
 "nbformat_minor": 2
}
