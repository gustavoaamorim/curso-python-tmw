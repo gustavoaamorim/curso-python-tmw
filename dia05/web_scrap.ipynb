{
 "cells": [
  {
   "cell_type": "markdown",
   "metadata": {},
   "source": [
    "### Fundamentos de web scrap\n",
    "\n",
    "Realizando web scrapping de uma página do wikipedia e salvando o html da página em um arquivo txt."
   ]
  },
  {
   "cell_type": "code",
   "execution_count": 1,
   "metadata": {},
   "outputs": [],
   "source": [
    "import requests"
   ]
  },
  {
   "cell_type": "code",
   "execution_count": 3,
   "metadata": {},
   "outputs": [],
   "source": [
    "import requests\n",
    "\n",
    "# definindo a url\n",
    "url = 'https://pt.wikipedia.org/wiki/Brasil'\n",
    "\n",
    "resposta = requests.get(url)\n",
    "\n",
    "with open('wiki_brasil.txt', 'w') as open_file:\n",
    "    open_file.write(resposta.text)\n"
   ]
  }
 ],
 "metadata": {
  "kernelspec": {
   "display_name": "Python 3",
   "language": "python",
   "name": "python3"
  },
  "language_info": {
   "codemirror_mode": {
    "name": "ipython",
    "version": 3
   },
   "file_extension": ".py",
   "mimetype": "text/x-python",
   "name": "python",
   "nbconvert_exporter": "python",
   "pygments_lexer": "ipython3",
   "version": "3.11.5"
  }
 },
 "nbformat": 4,
 "nbformat_minor": 2
}
